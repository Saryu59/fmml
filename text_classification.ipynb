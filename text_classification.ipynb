{
  "nbformat": 4,
  "nbformat_minor": 0,
  "metadata": {
    "colab": {
      "provenance": [],
      "authorship_tag": "ABX9TyPivU90rn1S3QXQuW0zd4/3",
      "include_colab_link": true
    },
    "kernelspec": {
      "name": "python3",
      "display_name": "Python 3"
    },
    "language_info": {
      "name": "python"
    }
  },
  "cells": [
    {
      "cell_type": "markdown",
      "metadata": {
        "id": "view-in-github",
        "colab_type": "text"
      },
      "source": [
        "<a href=\"https://colab.research.google.com/github/Saryu59/fmml/blob/main/text_classification.ipynb\" target=\"_parent\"><img src=\"https://colab.research.google.com/assets/colab-badge.svg\" alt=\"Open In Colab\"/></a>"
      ]
    },
    {
      "cell_type": "markdown",
      "source": [
        "1.TF-IDF technique is used to find meaning of sentences consisting of words and cancels out the incapabilities of Bag of Words technique which is good for text classification or for helping a machine read words in numbers.\n",
        "\n",
        "The goal of using tf-idf instead of the raw frequencies of occurrence of a token in a given document is to scale down the impact of tokens that occur very frequently in a given corpus and that are hence empirically less informative than features that occur in a small fraction of the training corpus"
      ],
      "metadata": {
        "id": "jTwL9t-SzxTN"
      }
    },
    {
      "cell_type": "markdown",
      "source": [
        "3.  Pros of Stemming\n",
        "Speed: Fast and computationally inexpensive.\n",
        "\n",
        "Simplicity: Easy to implement and understand.\n",
        "\n",
        "Effective for IR (Information Retrieval): Helps match similar word variants in search (e.g., “connect” matches “connected” and “connection”).\n",
        "\n",
        "❌ Cons of Stemming\n",
        "Over-stemming: Words with different meanings may get mapped to the same stem (universe, university → univers).\n",
        "\n",
        "Under-stemming: Words with the same meaning might not get mapped to the same stem.\n",
        "\n",
        "Not always valid words: May return stems that aren’t meaningful or correct (studies → studi).\n",
        "\n",
        "\n",
        "✅ Pros of Lemmatization\n",
        "Accuracy: Produces proper root words that are actual dictionary entries.\n",
        "\n",
        "Context-aware: Handles irregular words and uses grammatical analysis.\n",
        "\n",
        "Better semantic meaning: Useful in applications like text analysis, question answering, and chatbots.\n",
        "\n",
        "❌ Cons of Lemmatization\n",
        "Slower: Requires more processing power and time.\n",
        "\n",
        "More complex: Needs part-of-speech tagging and access to lexical resources like WordNet.\n",
        "\n",
        "Language-dependent: Needs different models for different languages.\n",
        "\n"
      ],
      "metadata": {
        "id": "OSEgJHas1SHZ"
      }
    },
    {
      "cell_type": "markdown",
      "source": [],
      "metadata": {
        "id": "T_BRCzDN1aDt"
      }
    }
  ]
}