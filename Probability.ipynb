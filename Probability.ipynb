{
  "nbformat": 4,
  "nbformat_minor": 0,
  "metadata": {
    "colab": {
      "provenance": [],
      "authorship_tag": "ABX9TyPcysMZA3Pt7FodtmDeGze+",
      "include_colab_link": true
    },
    "kernelspec": {
      "name": "python3",
      "display_name": "Python 3"
    },
    "language_info": {
      "name": "python"
    }
  },
  "cells": [
    {
      "cell_type": "markdown",
      "metadata": {
        "id": "view-in-github",
        "colab_type": "text"
      },
      "source": [
        "<a href=\"https://colab.research.google.com/github/Saryu59/fmml/blob/main/Probability.ipynb\" target=\"_parent\"><img src=\"https://colab.research.google.com/assets/colab-badge.svg\" alt=\"Open In Colab\"/></a>"
      ]
    },
    {
      "cell_type": "markdown",
      "source": [],
      "metadata": {
        "id": "8qRUVTeOFyTh"
      }
    },
    {
      "cell_type": "code",
      "execution_count": null,
      "metadata": {
        "id": "Bqy3dlhtFwU0"
      },
      "outputs": [],
      "source": []
    },
    {
      "cell_type": "markdown",
      "source": [
        "1. Probability of drawing a numbered card from a full, shuffled 52-card deck\n",
        "Numbered cards are from 2 to 10. That's 9 different values, and for each value, there are 4 suits.\n",
        "\n",
        "Number of numbered cards\n",
        "=\n",
        "9\n",
        "×\n",
        "4\n",
        "=\n",
        "36\n",
        "Number of numbered cards=9×4=36\n",
        "Total cards\n",
        "=\n",
        "52\n",
        "Total cards=52\n",
        "p(numbered card)36/52=9/13\n",
        "\n",
        "2. Drawing two numbered cards with replacement\n",
        "You draw one card, look at it, then replace it and reshuffle, and then draw another card.\n",
        "\n",
        "Since the draws are independent, multiply the individual probabilities:\n",
        "P(both numbered)=(36/52)^2=81/169\n",
        "\n",
        "3. Drawing two numbered cards without replacement\n",
        "\n",
        "You draw one card and do not replace it before drawing the next.\n",
        "p(first numbered)=36/52\n",
        "p(second numbered/first numbered)=35/51\n",
        "p(both numbered)=36/52 *35/51\n",
        "\n"
      ],
      "metadata": {
        "id": "8DtJIGKqF0WB"
      }
    }
  ]
}