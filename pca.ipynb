{
  "nbformat": 4,
  "nbformat_minor": 0,
  "metadata": {
    "colab": {
      "provenance": [],
      "authorship_tag": "ABX9TyPcUFkS3/Heu6WGwhThVt0H",
      "include_colab_link": true
    },
    "kernelspec": {
      "name": "python3",
      "display_name": "Python 3"
    },
    "language_info": {
      "name": "python"
    }
  },
  "cells": [
    {
      "cell_type": "markdown",
      "metadata": {
        "id": "view-in-github",
        "colab_type": "text"
      },
      "source": [
        "<a href=\"https://colab.research.google.com/github/Saryu59/fmml/blob/main/pca.ipynb\" target=\"_parent\"><img src=\"https://colab.research.google.com/assets/colab-badge.svg\" alt=\"Open In Colab\"/></a>"
      ]
    },
    {
      "cell_type": "code",
      "execution_count": null,
      "metadata": {
        "id": "V1n_Y2yb3o8l"
      },
      "outputs": [],
      "source": []
    },
    {
      "cell_type": "markdown",
      "source": [
        "2.Face Recognition\n",
        " Use Case: Eigenfaces Technique\n",
        "\n",
        " How PCA is Applied:\n",
        "Each face image is represented as a long vector (flattened pixels).\n",
        "\n",
        "PCA is applied to reduce high-dimensional pixel space to a lower-dimensional feature space (called eigenfaces).\n",
        "\n",
        "Each new face is projected onto this space and represented using the principal components.\n",
        "\n",
        "Classification or matching is done using these compact representations.\n",
        "\n",
        "🎯 Why PCA Helps in Face Recognition:\n",
        "Reduces storage and computation by lowering dimensions.\n",
        "\n",
        "Removes redundant information (like background).\n",
        "\n",
        "Focuses on features that contribute most to face variation.\n",
        "\n"
      ],
      "metadata": {
        "id": "tH-R94Bv4J9o"
      }
    },
    {
      "cell_type": "markdown",
      "source": [
        "1.So, the first principal component alone explains more than 40% variance in the dataset. Also note that considering all the 30 dimensions explains 100% of the variance in the dataset as expected.\n",
        "\n",
        "Choosing a suitable number of components for further visualizations is generally based on the cumulative sum of PCs. The first 2 PCs explain nearly 65% variance, and the first 3 explain close to 75% variance."
      ],
      "metadata": {
        "id": "ZjUaHMYC5ppJ"
      }
    }
  ]
}